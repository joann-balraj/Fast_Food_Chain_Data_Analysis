{
 "cells": [
  {
   "cell_type": "markdown",
   "id": "c8d04687",
   "metadata": {},
   "source": [
    "# Fast Food Chain Data Analysis\n",
    "\n",
    "\n",
    "**Dataset obtained from Kaggle: https://www.kaggle.com/datasets/stetsondone/top50fastfood**\n",
    "\n",
    "> Data sourced from QSR Magazine, a business-to-business magazine in the quick service restaurant industry. This dataset includes the top 50 fast food chains in the U.S. in 2020. Contains information on the total sales, sales per unit, franchise units, company owned units, and unit change from 2018.\n",
    "\n",
    "___"
   ]
  },
  {
   "cell_type": "code",
   "execution_count": 1,
   "id": "23cdc0d5",
   "metadata": {},
   "outputs": [],
   "source": [
    "import time\n",
    "import numpy as np\n",
    "import pandas as pd\n",
    "import seaborn as sns\n",
    "import matplotlib.pyplot as plt\n",
    "import plotly.express as px\n",
    "from sklearn.model_selection import train_test_split \n",
    "import warnings\n",
    "warnings.filterwarnings('ignore')\n",
    "\n",
    "\n",
    "from sklearn.naive_bayes import GaussianNB\n",
    "from sklearn.linear_model import LogisticRegression\n",
    "from sklearn.svm import LinearSVC\n",
    "from sklearn.ensemble import RandomForestClassifier, GradientBoostingClassifier\n",
    "\n",
    "from sklearn.metrics import classification_report\n",
    "from sklearn.metrics import confusion_matrix\n",
    "from sklearn.metrics import plot_confusion_matrix\n",
    "from sklearn.metrics import precision_recall_fscore_support as score\n",
    "from sklearn.metrics import roc_curve, auc, roc_auc_score"
   ]
  },
  {
   "cell_type": "code",
   "execution_count": 4,
   "id": "ac353fa4",
   "metadata": {},
   "outputs": [
    {
     "data": {
      "text/html": [
       "<div>\n",
       "<style scoped>\n",
       "    .dataframe tbody tr th:only-of-type {\n",
       "        vertical-align: middle;\n",
       "    }\n",
       "\n",
       "    .dataframe tbody tr th {\n",
       "        vertical-align: top;\n",
       "    }\n",
       "\n",
       "    .dataframe thead th {\n",
       "        text-align: right;\n",
       "    }\n",
       "</style>\n",
       "<table border=\"1\" class=\"dataframe\">\n",
       "  <thead>\n",
       "    <tr style=\"text-align: right;\">\n",
       "      <th></th>\n",
       "      <th>company</th>\n",
       "      <th>category</th>\n",
       "      <th>sales_in_millions_2019</th>\n",
       "      <th>sales_per_unit_thousands_2019</th>\n",
       "      <th>franchised_units_2019</th>\n",
       "      <th>company_owned_units_2019</th>\n",
       "      <th>total_units_2019</th>\n",
       "      <th>unit_change_from_2018</th>\n",
       "    </tr>\n",
       "  </thead>\n",
       "  <tbody>\n",
       "    <tr>\n",
       "      <th>0</th>\n",
       "      <td>mcdonalds</td>\n",
       "      <td>burger</td>\n",
       "      <td>40413</td>\n",
       "      <td>2912</td>\n",
       "      <td>13154</td>\n",
       "      <td>692</td>\n",
       "      <td>13846</td>\n",
       "      <td>-66</td>\n",
       "    </tr>\n",
       "    <tr>\n",
       "      <th>1</th>\n",
       "      <td>starbucks</td>\n",
       "      <td>snack</td>\n",
       "      <td>21550</td>\n",
       "      <td>1454</td>\n",
       "      <td>6768</td>\n",
       "      <td>8273</td>\n",
       "      <td>15041</td>\n",
       "      <td>216</td>\n",
       "    </tr>\n",
       "    <tr>\n",
       "      <th>2</th>\n",
       "      <td>chick_fil_a</td>\n",
       "      <td>chicken</td>\n",
       "      <td>11000</td>\n",
       "      <td>4517</td>\n",
       "      <td>2500</td>\n",
       "      <td>0</td>\n",
       "      <td>2500</td>\n",
       "      <td>130</td>\n",
       "    </tr>\n",
       "    <tr>\n",
       "      <th>3</th>\n",
       "      <td>taco_bell</td>\n",
       "      <td>global</td>\n",
       "      <td>11000</td>\n",
       "      <td>1502</td>\n",
       "      <td>6622</td>\n",
       "      <td>467</td>\n",
       "      <td>7089</td>\n",
       "      <td>181</td>\n",
       "    </tr>\n",
       "    <tr>\n",
       "      <th>4</th>\n",
       "      <td>burger_king</td>\n",
       "      <td>burger</td>\n",
       "      <td>10300</td>\n",
       "      <td>1399</td>\n",
       "      <td>7294</td>\n",
       "      <td>52</td>\n",
       "      <td>7346</td>\n",
       "      <td>16</td>\n",
       "    </tr>\n",
       "  </tbody>\n",
       "</table>\n",
       "</div>"
      ],
      "text/plain": [
       "       company category  sales_in_millions_2019  \\\n",
       "0    mcdonalds   burger                   40413   \n",
       "1    starbucks    snack                   21550   \n",
       "2  chick_fil_a  chicken                   11000   \n",
       "3    taco_bell   global                   11000   \n",
       "4  burger_king   burger                   10300   \n",
       "\n",
       "   sales_per_unit_thousands_2019  franchised_units_2019  \\\n",
       "0                           2912                  13154   \n",
       "1                           1454                   6768   \n",
       "2                           4517                   2500   \n",
       "3                           1502                   6622   \n",
       "4                           1399                   7294   \n",
       "\n",
       "   company_owned_units_2019  total_units_2019  unit_change_from_2018  \n",
       "0                       692             13846                    -66  \n",
       "1                      8273             15041                    216  \n",
       "2                         0              2500                    130  \n",
       "3                       467              7089                    181  \n",
       "4                        52              7346                     16  "
      ]
     },
     "execution_count": 4,
     "metadata": {},
     "output_type": "execute_result"
    }
   ],
   "source": [
    "# Load the dataset\n",
    "data = pd.read_csv('fast_food_data.csv')\n",
    "data.head()"
   ]
  },
  {
   "cell_type": "code",
   "execution_count": 5,
   "id": "9d6188d4",
   "metadata": {},
   "outputs": [
    {
     "name": "stdout",
     "output_type": "stream",
     "text": [
      "(50, 8)\n",
      "<class 'pandas.core.frame.DataFrame'>\n",
      "RangeIndex: 50 entries, 0 to 49\n",
      "Data columns (total 8 columns):\n",
      " #   Column                         Non-Null Count  Dtype \n",
      "---  ------                         --------------  ----- \n",
      " 0   company                        50 non-null     object\n",
      " 1   category                       50 non-null     object\n",
      " 2   sales_in_millions_2019         50 non-null     int64 \n",
      " 3   sales_per_unit_thousands_2019  50 non-null     int64 \n",
      " 4   franchised_units_2019          50 non-null     int64 \n",
      " 5   company_owned_units_2019       50 non-null     int64 \n",
      " 6   total_units_2019               50 non-null     int64 \n",
      " 7   unit_change_from_2018          50 non-null     int64 \n",
      "dtypes: int64(6), object(2)\n",
      "memory usage: 3.2+ KB\n",
      "None\n"
     ]
    }
   ],
   "source": [
    "print(data.shape)\n",
    "print(data.info())"
   ]
  },
  {
   "cell_type": "markdown",
   "id": "81ac972d",
   "metadata": {},
   "source": [
    "This dataset has **no null values**."
   ]
  },
  {
   "cell_type": "code",
   "execution_count": null,
   "id": "973f46e5",
   "metadata": {},
   "outputs": [],
   "source": []
  }
 ],
 "metadata": {
  "kernelspec": {
   "display_name": "Python 3.8.8 64-bit ('base': conda)",
   "language": "python",
   "name": "python388jvsc74a57bd0b64057e63add2b45b1ffc7eab9b09c8889b419c878e2fdf0d08f837f0fc857a7"
  },
  "language_info": {
   "codemirror_mode": {
    "name": "ipython",
    "version": 3
   },
   "file_extension": ".py",
   "mimetype": "text/x-python",
   "name": "python",
   "nbconvert_exporter": "python",
   "pygments_lexer": "ipython3",
   "version": "3.8.8"
  }
 },
 "nbformat": 4,
 "nbformat_minor": 5
}
